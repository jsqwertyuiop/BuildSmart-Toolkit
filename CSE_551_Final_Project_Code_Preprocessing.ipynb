{
  "nbformat": 4,
  "nbformat_minor": 0,
  "metadata": {
    "colab": {
      "provenance": []
    },
    "kernelspec": {
      "name": "python3",
      "display_name": "Python 3"
    },
    "language_info": {
      "name": "python"
    }
  },
  "cells": [
    {
      "cell_type": "code",
      "execution_count": null,
      "metadata": {
        "colab": {
          "base_uri": "https://localhost:8080/"
        },
        "id": "qgT9U9oJtj84",
        "outputId": "b45ca632-e08f-46e5-d99f-f93f709cbd0a"
      },
      "outputs": [
        {
          "output_type": "stream",
          "name": "stdout",
          "text": [
            "Drive already mounted at /content/gdrive; to attempt to forcibly remount, call drive.mount(\"/content/gdrive\", force_remount=True).\n",
            "/content/gdrive/.shortcut-targets-by-id/1zLdF-ovpoDMI1rA3kRe4yk1TTgZbQWYk/CSE551 Group Projects/Final Project Presentation\n"
          ]
        }
      ],
      "source": [
        "import numpy as np\n",
        "import pandas as pd\n",
        "from google.colab import drive\n",
        "import requests\n",
        "\n",
        "drive.mount('/content/gdrive')\n",
        "\n",
        "%cd \"/content/gdrive/My Drive/CSE551 Group Projects/Final Project Presentation\""
      ]
    },
    {
      "cell_type": "code",
      "source": [
        "!pip install openmeteo-requests\n",
        "!pip install requests-cache retry-requests numpy pandas"
      ],
      "metadata": {
        "colab": {
          "base_uri": "https://localhost:8080/"
        },
        "id": "-3dVpAqlMJar",
        "outputId": "c9e1cd32-8510-4ed6-cd36-b3e9d8fbcad3"
      },
      "execution_count": null,
      "outputs": [
        {
          "output_type": "stream",
          "name": "stdout",
          "text": [
            "Collecting openmeteo-requests\n",
            "  Downloading openmeteo_requests-1.2.0-py3-none-any.whl (5.5 kB)\n",
            "Collecting openmeteo-sdk>=1.4.0 (from openmeteo-requests)\n",
            "  Downloading openmeteo_sdk-1.11.4-py3-none-any.whl (12 kB)\n",
            "Requirement already satisfied: requests in /usr/local/lib/python3.10/dist-packages (from openmeteo-requests) (2.31.0)\n",
            "Requirement already satisfied: flatbuffers>=24.0.0 in /usr/local/lib/python3.10/dist-packages (from openmeteo-sdk>=1.4.0->openmeteo-requests) (24.3.25)\n",
            "Requirement already satisfied: charset-normalizer<4,>=2 in /usr/local/lib/python3.10/dist-packages (from requests->openmeteo-requests) (3.3.2)\n",
            "Requirement already satisfied: idna<4,>=2.5 in /usr/local/lib/python3.10/dist-packages (from requests->openmeteo-requests) (3.7)\n",
            "Requirement already satisfied: urllib3<3,>=1.21.1 in /usr/local/lib/python3.10/dist-packages (from requests->openmeteo-requests) (2.0.7)\n",
            "Requirement already satisfied: certifi>=2017.4.17 in /usr/local/lib/python3.10/dist-packages (from requests->openmeteo-requests) (2024.2.2)\n",
            "Installing collected packages: openmeteo-sdk, openmeteo-requests\n",
            "Successfully installed openmeteo-requests-1.2.0 openmeteo-sdk-1.11.4\n",
            "Collecting requests-cache\n",
            "  Downloading requests_cache-1.2.0-py3-none-any.whl (61 kB)\n",
            "\u001b[2K     \u001b[90m━━━━━━━━━━━━━━━━━━━━━━━━━━━━━━━━━━━━━━━━\u001b[0m \u001b[32m61.4/61.4 kB\u001b[0m \u001b[31m1.9 MB/s\u001b[0m eta \u001b[36m0:00:00\u001b[0m\n",
            "\u001b[?25hCollecting retry-requests\n",
            "  Downloading retry_requests-2.0.0-py3-none-any.whl (15 kB)\n",
            "Requirement already satisfied: numpy in /usr/local/lib/python3.10/dist-packages (1.25.2)\n",
            "Requirement already satisfied: pandas in /usr/local/lib/python3.10/dist-packages (2.0.3)\n",
            "Requirement already satisfied: attrs>=21.2 in /usr/local/lib/python3.10/dist-packages (from requests-cache) (23.2.0)\n",
            "Collecting cattrs>=22.2 (from requests-cache)\n",
            "  Downloading cattrs-23.2.3-py3-none-any.whl (57 kB)\n",
            "\u001b[2K     \u001b[90m━━━━━━━━━━━━━━━━━━━━━━━━━━━━━━━━━━━━━━━━\u001b[0m \u001b[32m57.5/57.5 kB\u001b[0m \u001b[31m4.2 MB/s\u001b[0m eta \u001b[36m0:00:00\u001b[0m\n",
            "\u001b[?25hRequirement already satisfied: platformdirs>=2.5 in /usr/local/lib/python3.10/dist-packages (from requests-cache) (4.2.1)\n",
            "Requirement already satisfied: requests>=2.22 in /usr/local/lib/python3.10/dist-packages (from requests-cache) (2.31.0)\n",
            "Collecting url-normalize>=1.4 (from requests-cache)\n",
            "  Downloading url_normalize-1.4.3-py2.py3-none-any.whl (6.8 kB)\n",
            "Requirement already satisfied: urllib3>=1.25.5 in /usr/local/lib/python3.10/dist-packages (from requests-cache) (2.0.7)\n",
            "Requirement already satisfied: python-dateutil>=2.8.2 in /usr/local/lib/python3.10/dist-packages (from pandas) (2.8.2)\n",
            "Requirement already satisfied: pytz>=2020.1 in /usr/local/lib/python3.10/dist-packages (from pandas) (2023.4)\n",
            "Requirement already satisfied: tzdata>=2022.1 in /usr/local/lib/python3.10/dist-packages (from pandas) (2024.1)\n",
            "Requirement already satisfied: exceptiongroup>=1.1.1 in /usr/local/lib/python3.10/dist-packages (from cattrs>=22.2->requests-cache) (1.2.1)\n",
            "Requirement already satisfied: typing-extensions!=4.6.3,>=4.1.0 in /usr/local/lib/python3.10/dist-packages (from cattrs>=22.2->requests-cache) (4.11.0)\n",
            "Requirement already satisfied: six>=1.5 in /usr/local/lib/python3.10/dist-packages (from python-dateutil>=2.8.2->pandas) (1.16.0)\n",
            "Requirement already satisfied: charset-normalizer<4,>=2 in /usr/local/lib/python3.10/dist-packages (from requests>=2.22->requests-cache) (3.3.2)\n",
            "Requirement already satisfied: idna<4,>=2.5 in /usr/local/lib/python3.10/dist-packages (from requests>=2.22->requests-cache) (3.7)\n",
            "Requirement already satisfied: certifi>=2017.4.17 in /usr/local/lib/python3.10/dist-packages (from requests>=2.22->requests-cache) (2024.2.2)\n",
            "Installing collected packages: url-normalize, cattrs, retry-requests, requests-cache\n",
            "Successfully installed cattrs-23.2.3 requests-cache-1.2.0 retry-requests-2.0.0 url-normalize-1.4.3\n"
          ]
        }
      ]
    },
    {
      "cell_type": "code",
      "source": [
        "import openmeteo_requests\n",
        "\n",
        "import requests_cache\n",
        "import pandas as pd\n",
        "from retry_requests import retry\n",
        "\n",
        "# Setup the Open-Meteo API client with cache and retry on error\n",
        "cache_session = requests_cache.CachedSession('.cache', expire_after = -1)\n",
        "retry_session = retry(cache_session, retries = 5, backoff_factor = 0.2)\n",
        "openmeteo = openmeteo_requests.Client(session = retry_session)\n",
        "\n",
        "# Make sure all required weather variables are listed here\n",
        "# The order of variables in hourly or daily is important to assign them correctly below\n",
        "url = \"https://archive-api.open-meteo.com/v1/archive\"\n",
        "params = {\n",
        "\t\"latitude\": 40.9256,\n",
        "\t\"longitude\": -73.1409,\n",
        "\t\"start_date\": \"2024-02-01\",\n",
        "\t\"end_date\": \"2024-03-31\",\n",
        "\t\"hourly\": \"temperature_2m\",\n",
        "\t\"temperature_unit\": \"fahrenheit\",\n",
        "\t\"timezone\": \"America/New_York\"\n",
        "}\n",
        "responses = openmeteo.weather_api(url, params=params)\n",
        "\n",
        "# Process first location. Add a for-loop for multiple locations or weather models\n",
        "response = responses[0]\n",
        "print(f\"Coordinates {response.Latitude()}°N {response.Longitude()}°E\")\n",
        "print(f\"Elevation {response.Elevation()} m asl\")\n",
        "print(f\"Timezone {response.Timezone()} {response.TimezoneAbbreviation()}\")\n",
        "print(f\"Timezone difference to GMT+0 {response.UtcOffsetSeconds()} s\")\n",
        "\n",
        "# Process hourly data. The order of variables needs to be the same as requested.\n",
        "hourly = response.Hourly()\n",
        "hourly_temperature_2m = hourly.Variables(0).ValuesAsNumpy()\n",
        "\n",
        "hourly_data = {\"date\": pd.date_range(\n",
        "\tstart = pd.to_datetime(hourly.Time(), unit = \"s\", utc = True),\n",
        "\tend = pd.to_datetime(hourly.TimeEnd(), unit = \"s\", utc = True),\n",
        "\tfreq = pd.Timedelta(seconds = hourly.Interval()),\n",
        "\tinclusive = \"left\"\n",
        ")}\n",
        "hourly_data[\"temperature_2m\"] = hourly_temperature_2m\n",
        "\n",
        "hourly_dataframe = pd.DataFrame(data = hourly_data)\n",
        "print(hourly_dataframe)"
      ],
      "metadata": {
        "colab": {
          "base_uri": "https://localhost:8080/"
        },
        "id": "dV0Q_S7TMFoJ",
        "outputId": "f98ce1f1-d3b3-486b-97ff-8e752e12ae20"
      },
      "execution_count": null,
      "outputs": [
        {
          "output_type": "stream",
          "name": "stdout",
          "text": [
            "Coordinates 40.949031829833984°N -73.076904296875°E\n",
            "Elevation 28.0 m asl\n",
            "Timezone b'America/New_York' b'EDT'\n",
            "Timezone difference to GMT+0 -14400 s\n",
            "                          date  temperature_2m\n",
            "0    2024-02-01 04:00:00+00:00       31.053200\n",
            "1    2024-02-01 05:00:00+00:00       30.783199\n",
            "2    2024-02-01 06:00:00+00:00       30.693199\n",
            "3    2024-02-01 07:00:00+00:00       30.603199\n",
            "4    2024-02-01 08:00:00+00:00       30.693199\n",
            "...                        ...             ...\n",
            "1435 2024-03-31 23:00:00+00:00       53.643200\n",
            "1436 2024-04-01 00:00:00+00:00       51.213200\n",
            "1437 2024-04-01 01:00:00+00:00       49.323200\n",
            "1438 2024-04-01 02:00:00+00:00       49.053200\n",
            "1439 2024-04-01 03:00:00+00:00       47.973198\n",
            "\n",
            "[1440 rows x 2 columns]\n"
          ]
        }
      ]
    },
    {
      "cell_type": "code",
      "source": [
        "data = pd.read_csv('TwoMonths.csv')\n",
        "\n",
        "print(data)\n",
        "hourly_consumption = 0\n",
        "\n",
        "new_data = {\n",
        "    'Start': [],\n",
        "    'kWh': [],\n",
        "    'temperature': []\n",
        "}\n",
        "counter = 0\n",
        "\n",
        "for index, row in data.iterrows():\n",
        "  hourly_consumption += row[\"kWh\"]\n",
        "  if(index % 2 == 1):\n",
        "    new_data['Start'].append(row[\"Start\"][:row[\"Start\"].index(\":\", 13)] + row[\"Start\"][row[\"Start\"].index(\":\", 13)+3:])\n",
        "    new_data['kWh'].append(hourly_consumption)\n",
        "    new_data['temperature'].append(str(hourly_data['temperature_2m'][counter])[:5])\n",
        "    counter += 1\n",
        "    hourly_consumption = 0\n",
        "\n",
        "filtered_data = pd.DataFrame(data = new_data)\n",
        "print(filtered_data)"
      ],
      "metadata": {
        "colab": {
          "base_uri": "https://localhost:8080/"
        },
        "id": "4u3G6JedONNx",
        "outputId": "5b5095de-e86b-4146-9635-0940f85bd90e"
      },
      "execution_count": null,
      "outputs": [
        {
          "output_type": "stream",
          "name": "stdout",
          "text": [
            "                      Start             Meter        Location   kWh\n",
            "0       2/1/2024 4:00:00 AM   Meter #80354166  85230256077175  1.70\n",
            "1       2/1/2024 4:00:00 AM  Meter #80354166g  85230256077175  0.00\n",
            "2       2/1/2024 5:00:00 AM   Meter #80354166  85230256077175  0.87\n",
            "3       2/1/2024 5:00:00 AM  Meter #80354166g  85230256077175  0.00\n",
            "4       2/1/2024 6:00:00 AM   Meter #80354166  85230256077175  0.59\n",
            "...                     ...               ...             ...   ...\n",
            "2867   3/31/2024 9:00:00 PM  Meter #80354166g  85230256077175  0.00\n",
            "2868  3/31/2024 10:00:00 PM   Meter #80354166  85230256077175  1.10\n",
            "2869  3/31/2024 10:00:00 PM  Meter #80354166g  85230256077175  0.00\n",
            "2870  3/31/2024 11:00:00 PM   Meter #80354166  85230256077175  0.77\n",
            "2871  3/31/2024 11:00:00 PM  Meter #80354166g  85230256077175  0.00\n",
            "\n",
            "[2872 rows x 4 columns]\n",
            "                   Start   kWh temperature\n",
            "0       2/1/2024 4:00 AM  1.70       31.05\n",
            "1       2/1/2024 5:00 AM  0.87       30.78\n",
            "2       2/1/2024 6:00 AM  0.59       30.69\n",
            "3       2/1/2024 7:00 AM  1.74       30.60\n",
            "4       2/1/2024 8:00 AM -0.32       30.69\n",
            "...                  ...   ...         ...\n",
            "1431   3/31/2024 7:00 PM  2.91       56.88\n",
            "1432   3/31/2024 8:00 PM  2.69       57.60\n",
            "1433   3/31/2024 9:00 PM  2.57       57.96\n",
            "1434  3/31/2024 10:00 PM  1.10       56.70\n",
            "1435  3/31/2024 11:00 PM  0.77       53.64\n",
            "\n",
            "[1436 rows x 3 columns]\n"
          ]
        }
      ]
    },
    {
      "cell_type": "code",
      "source": [
        "filtered_data.to_csv('filtered_data.csv', index=False)"
      ],
      "metadata": {
        "id": "tTafo3r_sNoe"
      },
      "execution_count": null,
      "outputs": []
    }
  ]
}